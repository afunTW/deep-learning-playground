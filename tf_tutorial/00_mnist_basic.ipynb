{
 "cells": [
  {
   "cell_type": "markdown",
   "metadata": {},
   "source": [
    "# MNIST classification\n",
    "\n",
    "該範例講述如何用 tf 簡單的做出手寫辨識\n",
    "\n",
    "- build model\n",
    "- train / evalate\n",
    "- save model"
   ]
  },
  {
   "cell_type": "code",
   "execution_count": 1,
   "metadata": {},
   "outputs": [
    {
     "name": "stdout",
     "output_type": "stream",
     "text": [
      "WARNING:tensorflow:From <ipython-input-1-b3dd9edf177d>:2: read_data_sets (from tensorflow.contrib.learn.python.learn.datasets.mnist) is deprecated and will be removed in a future version.\n",
      "Instructions for updating:\n",
      "Please use alternatives such as official/mnist/dataset.py from tensorflow/models.\n",
      "WARNING:tensorflow:From /usr/local/lib/python3.6/site-packages/tensorflow/contrib/learn/python/learn/datasets/mnist.py:260: maybe_download (from tensorflow.contrib.learn.python.learn.datasets.base) is deprecated and will be removed in a future version.\n",
      "Instructions for updating:\n",
      "Please write your own downloading logic.\n",
      "WARNING:tensorflow:From /usr/local/lib/python3.6/site-packages/tensorflow/contrib/learn/python/learn/datasets/mnist.py:262: extract_images (from tensorflow.contrib.learn.python.learn.datasets.mnist) is deprecated and will be removed in a future version.\n",
      "Instructions for updating:\n",
      "Please use tf.data to implement this functionality.\n",
      "Extracting data/mnist/train-images-idx3-ubyte.gz\n",
      "WARNING:tensorflow:From /usr/local/lib/python3.6/site-packages/tensorflow/contrib/learn/python/learn/datasets/mnist.py:267: extract_labels (from tensorflow.contrib.learn.python.learn.datasets.mnist) is deprecated and will be removed in a future version.\n",
      "Instructions for updating:\n",
      "Please use tf.data to implement this functionality.\n",
      "Extracting data/mnist/train-labels-idx1-ubyte.gz\n",
      "WARNING:tensorflow:From /usr/local/lib/python3.6/site-packages/tensorflow/contrib/learn/python/learn/datasets/mnist.py:110: dense_to_one_hot (from tensorflow.contrib.learn.python.learn.datasets.mnist) is deprecated and will be removed in a future version.\n",
      "Instructions for updating:\n",
      "Please use tf.one_hot on tensors.\n",
      "Extracting data/mnist/t10k-images-idx3-ubyte.gz\n",
      "Extracting data/mnist/t10k-labels-idx1-ubyte.gz\n",
      "WARNING:tensorflow:From /usr/local/lib/python3.6/site-packages/tensorflow/contrib/learn/python/learn/datasets/mnist.py:290: DataSet.__init__ (from tensorflow.contrib.learn.python.learn.datasets.mnist) is deprecated and will be removed in a future version.\n",
      "Instructions for updating:\n",
      "Please use alternatives such as official/mnist/dataset.py from tensorflow/models.\n",
      "tensorflow version 1.11.0\n"
     ]
    }
   ],
   "source": [
    "from tensorflow.examples.tutorials.mnist import input_data\n",
    "mnist_data = input_data.read_data_sets('data/mnist', one_hot=True)\n",
    "\n",
    "import os\n",
    "import argparse\n",
    "import matplotlib.pyplot as plt\n",
    "import tensorflow as tf\n",
    "from pathlib import Path\n",
    "print(f\"tensorflow version {tf.__version__}\")"
   ]
  },
  {
   "cell_type": "code",
   "execution_count": 2,
   "metadata": {},
   "outputs": [
    {
     "name": "stdout",
     "output_type": "stream",
     "text": [
      "Namespace(bz=128, ckpt_savepath='outputs/00_mnist_basic/mnist.ckpt', display_steps=100, gpu='3', lr=0.0001, n_input=784, n_output=10, neurons=[512, 512, 512], steps=500)\n"
     ]
    }
   ],
   "source": [
    "def argparser():\n",
    "    parser = argparse.ArgumentParser()\n",
    "    \n",
    "    # training parameter\n",
    "    parser.add_argument('--gpu', dest='gpu', required=True, \\\n",
    "                        help='require one GPU to execute')\n",
    "    parser.add_argument('--lr', dest='lr', \\\n",
    "                        default=0.1, type=float, \\\n",
    "                        help='learning rate')\n",
    "    parser.add_argument('--steps', dest='steps', \\\n",
    "                        default=500, type=int, \\\n",
    "                        help='number of update steps')\n",
    "    parser.add_argument('--bz', dest='bz', \\\n",
    "                        default=128, type=int, \\\n",
    "                        help='batch size')\n",
    "    parser.add_argument('--display-steps', dest='display_steps', \\\n",
    "                        default=100, type=int, \\\n",
    "                        help='display steps')\n",
    "    \n",
    "    # network parameter\n",
    "    parser.add_argument('--neurons', dest='neurons', \\\n",
    "                        default=[256, 256], nargs='+', type=int, \\\n",
    "                        help='hidden neurons')\n",
    "    parser.add_argument('--num-input', dest='n_input', \\\n",
    "                        default=784, type=int)\n",
    "    parser.add_argument('--num-class', dest='n_output', \\\n",
    "                        default=10, type=int)\n",
    "    parser.add_argument('--ckpt-savepath', dest='ckpt_savepath', \\\n",
    "                        default='outputs/00_mnist_basic/mnist.ckpt')\n",
    "    return parser\n",
    "\n",
    "# setting args\n",
    "args = argparser().parse_args([\n",
    "    '--gpu', '3',\n",
    "    '--lr', '0.0001',\n",
    "    '--neurons', '512', '512', '512'\n",
    "])\n",
    "print(args)\n",
    "os.environ['CUDA_VISIBLE_DEVICES'] = args.gpu"
   ]
  },
  {
   "cell_type": "code",
   "execution_count": 3,
   "metadata": {},
   "outputs": [],
   "source": [
    "# tf Graph input placeholder\n",
    "X = tf.placeholder('float', [None, args.n_input])\n",
    "Y = tf.placeholder('float', [None, args.n_output])\n",
    "\n",
    "# store layer weights and bias\n",
    "weights = {}\n",
    "bias = {}\n",
    "last_num_neurons = args.n_input\n",
    "for nid, neuron in enumerate(args.neurons):\n",
    "    weights.update({\n",
    "        f\"h{nid+1}\": tf.Variable(tf.random_normal([last_num_neurons, neuron]))\n",
    "    })\n",
    "    bias.update({\n",
    "        f\"h{nid+1}\": tf.Variable(tf.random_normal([neuron]))\n",
    "    })\n",
    "    last_num_neurons = neuron\n",
    "weights.update({\n",
    "    'out': tf.Variable(tf.random_normal([last_num_neurons, args.n_output]))})\n",
    "bias.update({\n",
    "    'out': tf.Variable(tf.random_normal([args.n_output]))})"
   ]
  },
  {
   "cell_type": "code",
   "execution_count": 4,
   "metadata": {},
   "outputs": [],
   "source": [
    "# create model\n",
    "def build_model(x, n_hidden_layer, w, b):\n",
    "    # hidden fully connected layer with neurons\n",
    "    for i in range(0, n_hidden_layer):\n",
    "        x = tf.add(tf.matmul(x, w[f\"h{i+1}\"]), b[f\"h{i+1}\"])\n",
    "    # output fully connected layer for each class\n",
    "    out = tf.matmul(x, w['out']) + b['out']\n",
    "    return out\n",
    "\n",
    "# construct model\n",
    "logits = build_model(X, len(args.neurons), weights, bias)\n",
    "y_pred = tf.nn.softmax(logits)\n",
    "\n",
    "# define loss and optimizer\n",
    "loss_op = tf.reduce_mean(tf.nn.softmax_cross_entropy_with_logits_v2(\n",
    "    logits=logits, labels=Y))\n",
    "optimizer = tf.train.AdamOptimizer(\n",
    "    learning_rate=args.lr)\n",
    "update_op = optimizer.minimize(loss_op)\n",
    "\n",
    "# evaluate model\n",
    "correct_pred = tf.equal(tf.argmax(y_pred, 1), tf.argmax(Y, 1))\n",
    "accuracy = tf.reduce_mean(tf.cast(correct_pred, tf.float32))\n",
    "\n",
    "# init the variable (assign the default value)\n",
    "init = tf.global_variables_initializer()"
   ]
  },
  {
   "cell_type": "code",
   "execution_count": 5,
   "metadata": {},
   "outputs": [
    {
     "name": "stdout",
     "output_type": "stream",
     "text": [
      "Step    1, minibatch loss=163501.5156, training accuracy=0.070\n",
      "Step  100, minibatch loss=48294.5820, training accuracy=0.344\n",
      "Step  200, minibatch loss=31940.3477, training accuracy=0.484\n",
      "Step  300, minibatch loss=20963.5508, training accuracy=0.562\n",
      "Step  400, minibatch loss=9718.2217, training accuracy=0.758\n",
      "optimization finished\n",
      "Model saved in outputs/00_mnist_basic/mnist.ckpt\n"
     ]
    }
   ],
   "source": [
    "saver = tf.train.Saver()\n",
    "\n",
    "# train model\n",
    "with tf.Session() as sess:\n",
    "    # run the init\n",
    "    sess.run(init)\n",
    "    \n",
    "    # iteration update the weight and bias\n",
    "    for step in range(1, args.steps):\n",
    "        batch_x, batch_y = mnist_data.train.next_batch(args.bz)\n",
    "        # run optimization operation (back propagation)\n",
    "        sess.run(update_op, feed_dict={X: batch_x, Y: batch_y})\n",
    "        if step % args.display_steps == 0 or step == 1:\n",
    "            # calc batch loss and acc\n",
    "            loss, acc = sess.run([loss_op, accuracy], feed_dict={\n",
    "                X: batch_x, Y: batch_y\n",
    "            })\n",
    "            print(f\"Step {step:4d}, \" +\\\n",
    "                    f\"minibatch loss={loss:.4f}, \"+\\\n",
    "                    f\"training accuracy={acc:.3f}\")\n",
    "    print('optimization finished')\n",
    "    \n",
    "    # save model\n",
    "    ckpt_savepath = Path(args.ckpt_savepath)\n",
    "    if not ckpt_savepath.parent.exists():\n",
    "        ckpt_savepath.parent.mkdir(parents=True)\n",
    "    ckpt_savepath = saver.save(sess, args.ckpt_savepath)\n",
    "    print(f\"Model saved in {args.ckpt_savepath}\")"
   ]
  },
  {
   "cell_type": "code",
   "execution_count": 6,
   "metadata": {},
   "outputs": [
    {
     "data": {
      "image/png": "[encoded data removed]",
      "text/plain": [
       "<Figure size 432x288 with 1 Axes>"
      ]
     },
     "metadata": {},
     "output_type": "display_data"
    },
    {
     "name": "stdout",
     "output_type": "stream",
     "text": [
      "INFO:tensorflow:Restoring parameters from outputs/00_mnist_basic/mnist.ckpt\n",
      "Model restored from outputs/00_mnist_basic/mnist.ckpt\n",
      "Testing accuracy: 0.7534000277519226\n",
      "Predict image label = [7]\n"
     ]
    }
   ],
   "source": [
    "plt.imshow(mnist_data.test.images[0].reshape((28, 28)))\n",
    "plt.show()\n",
    "\n",
    "with tf.Session() as sess:\n",
    "    sess.run(init)\n",
    "    \n",
    "    # restore model\n",
    "    saver.restore(sess, args.ckpt_savepath)\n",
    "    print(f\"Model restored from {args.ckpt_savepath}\")\n",
    "    \n",
    "    # calc accuracy for MNIST test images\n",
    "    print(f\"Testing accuracy: {sess.run(accuracy, feed_dict={\\\n",
    "            X: mnist_data.test.images, Y: mnist_data.test.labels})}\")\n",
    "    \n",
    "    # predict first test image\n",
    "    print(f\"Predict image label = {sess.run(tf.argmax(y_pred, 1), feed_dict={\\\n",
    "            X: mnist_data.test.images[0:1]})}\")"
   ]
  }
 ],
 "metadata": {
  "kernelspec": {
   "display_name": "Python 3",
   "language": "python",
   "name": "python3"
  },
  "language_info": {
   "codemirror_mode": {
    "name": "ipython",
    "version": 3
   },
   "file_extension": ".py",
   "mimetype": "text/x-python",
   "name": "python",
   "nbconvert_exporter": "python",
   "pygments_lexer": "ipython3",
   "version": "3.6.5"
  }
 },
 "nbformat": 4,
 "nbformat_minor": 2
}
