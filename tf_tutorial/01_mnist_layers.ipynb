{
 "cells": [
  {
   "cell_type": "markdown",
   "metadata": {},
   "source": [
    "# MNIST CNN\n",
    "\n",
    "上一個練習中我們的 input data 是攤平成一維向量，然後自己調用底層 function 做數值運算\n",
    "\n",
    "這邊帶入 CNN 概念，講 input data 視為二維圖片處理，並調用 high-level functino 做一連串處理\n",
    "\n",
    "- tf.layers\n",
    "- name_scope\n",
    "- batch normalization (BN)"
   ]
  },
  {
   "cell_type": "code",
   "execution_count": 1,
   "metadata": {},
   "outputs": [
    {
     "name": "stdout",
     "output_type": "stream",
     "text": [
      "WARNING:tensorflow:From <ipython-input-1-65538b30ce46>:2: read_data_sets (from tensorflow.contrib.learn.python.learn.datasets.mnist) is deprecated and will be removed in a future version.\n",
      "Instructions for updating:\n",
      "Please use alternatives such as official/mnist/dataset.py from tensorflow/models.\n",
      "WARNING:tensorflow:From /usr/local/lib/python3.6/site-packages/tensorflow/contrib/learn/python/learn/datasets/mnist.py:260: maybe_download (from tensorflow.contrib.learn.python.learn.datasets.base) is deprecated and will be removed in a future version.\n",
      "Instructions for updating:\n",
      "Please write your own downloading logic.\n",
      "WARNING:tensorflow:From /usr/local/lib/python3.6/site-packages/tensorflow/contrib/learn/python/learn/datasets/mnist.py:262: extract_images (from tensorflow.contrib.learn.python.learn.datasets.mnist) is deprecated and will be removed in a future version.\n",
      "Instructions for updating:\n",
      "Please use tf.data to implement this functionality.\n",
      "Extracting data/mnist/train-images-idx3-ubyte.gz\n",
      "WARNING:tensorflow:From /usr/local/lib/python3.6/site-packages/tensorflow/contrib/learn/python/learn/datasets/mnist.py:267: extract_labels (from tensorflow.contrib.learn.python.learn.datasets.mnist) is deprecated and will be removed in a future version.\n",
      "Instructions for updating:\n",
      "Please use tf.data to implement this functionality.\n",
      "Extracting data/mnist/train-labels-idx1-ubyte.gz\n",
      "WARNING:tensorflow:From /usr/local/lib/python3.6/site-packages/tensorflow/contrib/learn/python/learn/datasets/mnist.py:110: dense_to_one_hot (from tensorflow.contrib.learn.python.learn.datasets.mnist) is deprecated and will be removed in a future version.\n",
      "Instructions for updating:\n",
      "Please use tf.one_hot on tensors.\n",
      "Extracting data/mnist/t10k-images-idx3-ubyte.gz\n",
      "Extracting data/mnist/t10k-labels-idx1-ubyte.gz\n",
      "WARNING:tensorflow:From /usr/local/lib/python3.6/site-packages/tensorflow/contrib/learn/python/learn/datasets/mnist.py:290: DataSet.__init__ (from tensorflow.contrib.learn.python.learn.datasets.mnist) is deprecated and will be removed in a future version.\n",
      "Instructions for updating:\n",
      "Please use alternatives such as official/mnist/dataset.py from tensorflow/models.\n",
      "tensorflow version 1.11.0\n"
     ]
    }
   ],
   "source": [
    "from tensorflow.examples.tutorials.mnist import input_data\n",
    "mnist_data = input_data.read_data_sets('data/mnist', one_hot=True)\n",
    "\n",
    "import os\n",
    "import argparse\n",
    "import matplotlib.pyplot as plt\n",
    "import tensorflow as tf\n",
    "from pathlib import Path\n",
    "from datetime import datetime\n",
    "print(f\"tensorflow version {tf.__version__}\")"
   ]
  },
  {
   "cell_type": "code",
   "execution_count": 2,
   "metadata": {},
   "outputs": [
    {
     "name": "stdout",
     "output_type": "stream",
     "text": [
      "Namespace(bz=128, ckpt_savepath='outputs/01_mnist_CNN/mnist_layers.ckpt', display_steps=100, gpu='3', input_shape=[784], lr=0.0001, n_output=10, steps=500)\n"
     ]
    }
   ],
   "source": [
    "def argparser():\n",
    "    parser = argparse.ArgumentParser()\n",
    "    \n",
    "    # training parameter\n",
    "    parser.add_argument('--gpu', dest='gpu', required=True, \\\n",
    "                        help='require one GPU to execute')\n",
    "    parser.add_argument('--lr', dest='lr', \\\n",
    "                        default=0.1, type=float, \\\n",
    "                        help='learning rate')\n",
    "    parser.add_argument('--steps', dest='steps', \\\n",
    "                        default=500, type=int, \\\n",
    "                        help='number of update steps')\n",
    "    parser.add_argument('--bz', dest='bz', \\\n",
    "                        default=128, type=int, \\\n",
    "                        help='batch size')\n",
    "    parser.add_argument('--display-steps', dest='display_steps', \\\n",
    "                        default=100, type=int, \\\n",
    "                        help='display steps')\n",
    "    \n",
    "    # network parameter\n",
    "    parser.add_argument('--input-shape', dest='input_shape', \\\n",
    "                        default=784, nargs='+', type=int)\n",
    "    parser.add_argument('--num-class', dest='n_output', \\\n",
    "                        default=10, type=int)\n",
    "    parser.add_argument('--ckpt-savepath', dest='ckpt_savepath', \\\n",
    "                        default='outputs/01_mnist_CNN/mnist_layers.ckpt')\n",
    "    return parser\n",
    "\n",
    "# setting args\n",
    "args = argparser().parse_args([\n",
    "    '--gpu', '3',\n",
    "    '--lr', '0.0001',\n",
    "    '--input-shape', '784'\n",
    "])\n",
    "print(args)\n",
    "os.environ['CUDA_VISIBLE_DEVICES'] = args.gpu"
   ]
  },
  {
   "cell_type": "code",
   "execution_count": 3,
   "metadata": {},
   "outputs": [],
   "source": [
    "def build_model(features, n_class):\n",
    "    # input layer\n",
    "    input_layer = tf.reshape(features, [-1, 28, 28, 1], name='input')\n",
    "    \n",
    "    # conv1\n",
    "    conv1 = tf.layers.conv2d(input_layer, filters=32, kernel_size=5, padding='same', name='conv_1')\n",
    "    conv1 = tf.layers.batch_normalization(conv1, name='bn_1')\n",
    "    conv1 = tf.nn.relu(conv1, name='relu_1')\n",
    "    pool1 = tf.layers.max_pooling2d(conv1, pool_size=2, strides=2)\n",
    "    \n",
    "    # conv2\n",
    "    conv2 = tf.layers.conv2d(pool1, filters=64, kernel_size=5, padding='same', name='conv_2')\n",
    "    conv2 = tf.layers.batch_normalization(conv2, name='bn_2')\n",
    "    conv2 = tf.nn.relu(conv2, name='relu_2')\n",
    "    \n",
    "    # dense layer\n",
    "    flat = tf.layers.flatten(conv2, name='flatten')\n",
    "    dense = tf.layers.dense(flat, 1024, activation=tf.nn.relu, name='dense')\n",
    "    dropout = tf.layers.dropout(inputs=dense, rate=0.5)\n",
    "    \n",
    "    # output layer (logits)\n",
    "    output_layer = tf.layers.dense(dropout, n_class, name='output')\n",
    "    return output_layer\n",
    "\n",
    "tf.reset_default_graph()\n",
    "\n",
    "# define placeholder\n",
    "x_train = tf.placeholder('float', [None, *args.input_shape])\n",
    "y_train = tf.placeholder('float', [None, args.n_output])\n",
    "\n",
    "# define model graph\n",
    "logits = build_model(x_train, args.n_output)\n",
    "y_pred = tf.nn.softmax(logits=logits)\n",
    "\n",
    "# compile model - define loss and optimizer\n",
    "op_loss = tf.reduce_mean(tf.nn.softmax_cross_entropy_with_logits_v2(logits=logits, labels=y_train))\n",
    "optimizer = tf.train.AdamOptimizer(learning_rate=args.lr)\n",
    "op_update = optimizer.minimize(op_loss)\n",
    "\n",
    "# evaluate model\n",
    "correct_pred = tf.equal(tf.argmax(y_pred, 1), tf.argmax(y_train, 1))\n",
    "accuracy = tf.reduce_mean(tf.cast(correct_pred, tf.float32))"
   ]
  },
  {
   "cell_type": "code",
   "execution_count": 4,
   "metadata": {},
   "outputs": [
    {
     "name": "stdout",
     "output_type": "stream",
     "text": [
      "step    1 - loss=2.1879, acc=0.477\n",
      "step  100 - loss=0.2835, acc=0.906\n",
      "step  200 - loss=0.3227, acc=0.914\n",
      "step  300 - loss=0.1495, acc=0.938\n",
      "step  400 - loss=0.0932, acc=0.984\n",
      "optimization finished\n",
      "Save model - outputs/01_mnist_CNN/mnist_layers.ckpt\n",
      "Trining time - 0:00:08.023127\n"
     ]
    }
   ],
   "source": [
    "# # check model graph\n",
    "# import tensorflow.contrib.slim as slim\n",
    "# model_vars = tf.trainable_variables()\n",
    "# slim.model_analyzer.analyze_vars(model_vars, print_info=True)\n",
    "\n",
    "# training\n",
    "init = tf.global_variables_initializer()\n",
    "saver = tf.train.Saver()\n",
    "start_time = datetime.now()\n",
    "\n",
    "with tf.Session() as sess:\n",
    "    sess.run(init)\n",
    "    \n",
    "    # iterate update\n",
    "    for step in range(1, args.steps):\n",
    "        batch_x, batch_y = mnist_data.train.next_batch(args.bz)\n",
    "        \n",
    "        # optimize (back propagation) and print message\n",
    "        sess.run(op_update, feed_dict={x_train: batch_x, y_train: batch_y})\n",
    "        if step == 1 or step % args.display_steps == 0:\n",
    "            loss, acc = sess.run([op_loss, accuracy], feed_dict={x_train: batch_x, y_train: batch_y})\n",
    "            print(f\"step {step:4d} - loss={loss:.4f}, acc={acc:.3f}\")\n",
    "    print('optimization finished')\n",
    "        \n",
    "    # save model\n",
    "    ckpt_savepath = Path(args.ckpt_savepath)\n",
    "    if not ckpt_savepath.parent.exists():\n",
    "        ckpt_savepath.parent.mkdir(parents=True)\n",
    "    ckpt_savepath = saver.save(sess, args.ckpt_savepath)\n",
    "    print(f\"Save model - {args.ckpt_savepath}\")\n",
    "    print(f\"Trining time - {str(datetime.now() - start_time)}\")"
   ]
  },
  {
   "cell_type": "code",
   "execution_count": 5,
   "metadata": {},
   "outputs": [
    {
     "data": {
      "image/png": "[encoded data removed]",
      "text/plain": [
       "<Figure size 432x288 with 1 Axes>"
      ]
     },
     "metadata": {},
     "output_type": "display_data"
    },
    {
     "name": "stdout",
     "output_type": "stream",
     "text": [
      "INFO:tensorflow:Restoring parameters from outputs/01_mnist_CNN/mnist_layers.ckpt\n",
      "Model restored from outputs/01_mnist_CNN/mnist_layers.ckpt\n",
      "Testing accuracy: 0.9735999703407288\n",
      "Predict image label = [7]\n"
     ]
    }
   ],
   "source": [
    "# inference and test\n",
    "plt.imshow(mnist_data.test.images[0].reshape((28, 28)))\n",
    "plt.show()\n",
    "\n",
    "with tf.Session() as sess:\n",
    "    sess.run(init)\n",
    "    \n",
    "    # restore model\n",
    "    saver.restore(sess, args.ckpt_savepath)\n",
    "    print(f\"Model restored from {args.ckpt_savepath}\")\n",
    "    \n",
    "    # calc accuracy for MNIST test images\n",
    "    print(f\"Testing accuracy: {sess.run(accuracy, feed_dict={\\\n",
    "            x_train: mnist_data.test.images, y_train: mnist_data.test.labels})}\")\n",
    "    \n",
    "    # predict first test image\n",
    "    print(f\"Predict image label = {sess.run(tf.argmax(y_pred, 1), feed_dict={\\\n",
    "            x_train: mnist_data.test.images[0:1]})}\")"
   ]
  }
 ],
 "metadata": {
  "kernelspec": {
   "display_name": "Python 3",
   "language": "python",
   "name": "python3"
  },
  "language_info": {
   "codemirror_mode": {
    "name": "ipython",
    "version": 3
   },
   "file_extension": ".py",
   "mimetype": "text/x-python",
   "name": "python",
   "nbconvert_exporter": "python",
   "pygments_lexer": "ipython3",
   "version": "3.6.5"
  }
 },
 "nbformat": 4,
 "nbformat_minor": 2
}
