{
 "cells": [
  {
   "cell_type": "markdown",
   "metadata": {},
   "source": [
    "# multimodel-inference\n",
    "\n",
    "Fork from [vashineyu/deep-learning-experiments](https://github.com/vashineyu/deep-learning-experiments/blob/master/DL_MultiModel_multiGraph/Tensorflow%26Keras_RMMonGPUS.ipynb) but consider the keras version and mnist data only"
   ]
  },
  {
   "cell_type": "code",
   "execution_count": 1,
   "metadata": {},
   "outputs": [
    {
     "name": "stderr",
     "output_type": "stream",
     "text": [
      "Using TensorFlow backend.\n"
     ]
    }
   ],
   "source": [
    "import os\n",
    "import argparse\n",
    "import keras\n",
    "import tensorflow as tf\n",
    "import numpy as np\n",
    "\n",
    "from pprint import pprint, pformat\n",
    "from threading import Thread\n",
    "from keras import backend as K\n",
    "from tensorflow.python.client import device_lib"
   ]
  },
  {
   "cell_type": "code",
   "execution_count": 2,
   "metadata": {},
   "outputs": [
    {
     "name": "stdout",
     "output_type": "stream",
     "text": [
      "arguments:  Namespace(bz=64, epochs=100, gpus='1,3', lr=0.0001, skip_log=5)\n",
      "available_gpus: ['/device:GPU:0', '/device:GPU:1']\n"
     ]
    }
   ],
   "source": [
    "def argparser():\n",
    "    parser = argparse.ArgumentParser('Experiment to inference multi-model, test by mnist')\n",
    "    parser.add_argument('--gpus', dest='gpus', required=True)\n",
    "    parser.add_argument('--lr', dest='lr', default=1e-4, type=float, help='learning rate')\n",
    "    parser.add_argument('--epochs', dest='epochs', default=100, type=int, help='epochs')\n",
    "    parser.add_argument('--bz', dest='bz', default=64, type=int, help='batch size')\n",
    "    parser.add_argument('--skip-log', dest='skip_log', default=5, type=int, help='check K_Logger')\n",
    "    return parser\n",
    "\n",
    "def get_available_gpus():\n",
    "    local_device_protos = device_lib.list_local_devices()\n",
    "    return [x.name for x in local_device_protos if x.device_type == 'GPU']\n",
    "\n",
    "args = argparser().parse_args(['--gpus', '1,3'])\n",
    "os.environ['CUDA_VISIBLE_DEVICES'] = args.gpus\n",
    "available_gpus = get_available_gpus()\n",
    "\n",
    "print('arguments: ', args)\n",
    "print('available_gpus:', pformat(available_gpus))"
   ]
  },
  {
   "cell_type": "markdown",
   "metadata": {},
   "source": [
    "## data"
   ]
  },
  {
   "cell_type": "code",
   "execution_count": 4,
   "metadata": {},
   "outputs": [
    {
     "name": "stdout",
     "output_type": "stream",
     "text": [
      "Extracting data/mnist/train-images-idx3-ubyte.gz\n",
      "Extracting data/mnist/train-labels-idx1-ubyte.gz\n",
      "Extracting data/mnist/t10k-images-idx3-ubyte.gz\n",
      "Extracting data/mnist/t10k-labels-idx1-ubyte.gz\n",
      "x_train.shape=(55000, 28, 28, 1), y_train.shape=(55000, 10)\n",
      "x_test.shape=(10000, 28, 28, 1), y_test.shape=(10000, 10)\n"
     ]
    }
   ],
   "source": [
    "from tensorflow.examples.tutorials import mnist\n",
    "\n",
    "mnist_data = mnist.input_data.read_data_sets(\"data/mnist\", one_hot=True, reshape=False)\n",
    "x_train, y_train = mnist_data.train.images, mnist_data.train.labels\n",
    "x_test, y_test = mnist_data.test.images, mnist_data.test.labels\n",
    "\n",
    "print('x_train.shape={}, y_train.shape={}\\nx_test.shape={}, y_test.shape={}'.format(\n",
    "    x_train.shape, y_train.shape, x_test.shape, y_test.shape\n",
    "))"
   ]
  },
  {
   "cell_type": "markdown",
   "metadata": {},
   "source": [
    "## models"
   ]
  },
  {
   "cell_type": "code",
   "execution_count": 5,
   "metadata": {},
   "outputs": [
    {
     "name": "stdout",
     "output_type": "stream",
     "text": [
      "[('/device:GPU:0',\n",
      "  <tensorflow.python.framework.ops.Graph object at 0x7f48f405cf60>,\n",
      "  <keras.engine.training.Model object at 0x7f48e01eef28>),\n",
      " ('/device:GPU:1',\n",
      "  <tensorflow.python.framework.ops.Graph object at 0x7f48f4077080>,\n",
      "  <keras.engine.training.Model object at 0x7f48e00a8400>)]\n"
     ]
    }
   ],
   "source": [
    "from keras.models import load_model, Model\n",
    "from keras.layers import Input, Conv2D, MaxPooling2D, Dropout, Flatten, Dense\n",
    "from keras.optimizers import Adam\n",
    "\n",
    "def build_model(input_shape, num_classes):\n",
    "    in_layer = Input(shape=input_shape)\n",
    "    x = Conv2D(filters=32, kernel_size=(3, 3), activation='relu', padding='same')(in_layer)\n",
    "    x = MaxPooling2D(pool_size=(2, 2))(x)\n",
    "    x = Conv2D(filters=64, kernel_size=(3, 3), activation='relu', padding='same')(x)\n",
    "    x = MaxPooling2D(pool_size=(2, 2))(x)\n",
    "    x = Dropout(0.25)(x)\n",
    "    x = Flatten()(x)\n",
    "    x = Dense(128, activation='relu')(x)\n",
    "    x = Dropout(0.5)(x)\n",
    "    out_layer = Dense(num_classes, activation='softmax')(x)\n",
    "    \n",
    "    return Model(inputs=[in_layer], outputs=[out_layer])\n",
    "\n",
    "num_gpu = len(args.gpus.split(','))\n",
    "input_shape = x_train.shape[1:]\n",
    "num_classes = y_train.shape[1]\n",
    "lr = [args.lr] * num_gpu\n",
    "jobs_argument = []\n",
    "\n",
    "K.clear_session()\n",
    "for gpu_name, lr in zip(available_gpus, lr):\n",
    "    with tf.Graph().as_default() as graph:\n",
    "         with tf.device(gpu_name):\n",
    "                model = build_model(input_shape, num_classes)\n",
    "                model.compile(loss='categorical_crossentropy', metrics=['acc'], optimizer=Adam(lr=lr))\n",
    "                jobs_argument.append((gpu_name, graph, model))\n",
    "\n",
    "pprint(jobs_argument)"
   ]
  },
  {
   "cell_type": "markdown",
   "metadata": {},
   "source": [
    "## training"
   ]
  },
  {
   "cell_type": "code",
   "execution_count": 6,
   "metadata": {},
   "outputs": [],
   "source": [
    "from keras.callbacks import Callback\n",
    "\n",
    "class K_Logger(Callback):\n",
    "    def __init__(self, n, gpu_id=0):\n",
    "        \"\"\"\n",
    "        n {int} - print the log for each n epochs\n",
    "        \"\"\"\n",
    "        self.n = n\n",
    "        self.gpu_id = gpu_id\n",
    "\n",
    "    def on_epoch_end(self, epoch, logs={}):\n",
    "        if epoch % self.n == 0:\n",
    "            train_loss = logs.get('loss')\n",
    "            train_acc = logs.get('acc')\n",
    "            val_loss = logs.get('val_loss')\n",
    "            val_acc = logs.get('val_acc')\n",
    "            print('GPU {} - epoch {}, loss {:.5f}, acc {:.3f}, val_loss {:.5f}, val_acc {:.3f}'.format(\n",
    "                self.gpu_id, epoch, train_loss, train_acc, val_loss, val_acc\n",
    "            ))\n",
    "\n",
    "def training(gpu_name, graph, model):\n",
    "    print('start - {}'.format((gpu_name, graph, model)))\n",
    "    k_logger = K_Logger(args.skip_log, gpu_name)\n",
    "    \n",
    "    with tf.Session(graph=graph) as session:\n",
    "        K.set_session(session=session)\n",
    "        model.fit(x=x_train, y=y_train,\n",
    "                  batch_size=args.bz,\n",
    "                  epochs=args.epochs,\n",
    "                  validation_data=(x_test, y_test),\n",
    "                  verbose=False,\n",
    "                  callbacks=[k_logger]\n",
    "                 )"
   ]
  },
  {
   "cell_type": "code",
   "execution_count": null,
   "metadata": {},
   "outputs": [
    {
     "name": "stdout",
     "output_type": "stream",
     "text": [
      "start - ('/device:GPU:0', <tensorflow.python.framework.ops.Graph object at 0x7f48f405cf60>, <keras.engine.training.Model object at 0x7f48e01eef28>)\n",
      "start - ('/device:GPU:1', <tensorflow.python.framework.ops.Graph object at 0x7f48f4077080>, <keras.engine.training.Model object at 0x7f48e00a8400>)\n",
      "GPU /device:GPU:1 - epoch 0, loss 0.67887, acc 0.791, val_loss 0.17829, val_acc 0.946\n",
      "GPU /device:GPU:0 - epoch 0, loss 0.70519, acc 0.787, val_loss 0.19112, val_acc 0.944\n",
      "GPU /device:GPU:1 - epoch 5, loss 0.10486, acc 0.969, val_loss 0.05518, val_acc 0.982\n",
      "GPU /device:GPU:0 - epoch 5, loss 0.10590, acc 0.968, val_loss 0.04984, val_acc 0.983\n",
      "GPU /device:GPU:1 - epoch 10, loss 0.06970, acc 0.979, val_loss 0.03508, val_acc 0.989\n",
      "GPU /device:GPU:0 - epoch 10, loss 0.06871, acc 0.979, val_loss 0.03545, val_acc 0.988\n",
      "GPU /device:GPU:1 - epoch 15, loss 0.05342, acc 0.984, val_loss 0.02959, val_acc 0.989\n",
      "GPU /device:GPU:0 - epoch 15, loss 0.05128, acc 0.984, val_loss 0.02928, val_acc 0.990\n",
      "GPU /device:GPU:1 - epoch 20, loss 0.04437, acc 0.986, val_loss 0.02619, val_acc 0.991\n",
      "GPU /device:GPU:1 - epoch 25, loss 0.03641, acc 0.989, val_loss 0.02443, val_acc 0.991\n",
      "GPU /device:GPU:0 - epoch 20, loss 0.04488, acc 0.986, val_loss 0.02686, val_acc 0.991\n",
      "GPU /device:GPU:1 - epoch 30, loss 0.03245, acc 0.990, val_loss 0.02369, val_acc 0.992\n",
      "GPU /device:GPU:0 - epoch 25, loss 0.03637, acc 0.989, val_loss 0.02488, val_acc 0.992\n",
      "GPU /device:GPU:1 - epoch 35, loss 0.02664, acc 0.992, val_loss 0.02402, val_acc 0.992\n",
      "GPU /device:GPU:0 - epoch 30, loss 0.03103, acc 0.990, val_loss 0.02416, val_acc 0.992\n",
      "GPU /device:GPU:1 - epoch 40, loss 0.02361, acc 0.992, val_loss 0.02361, val_acc 0.992\n",
      "GPU /device:GPU:0 - epoch 35, loss 0.02609, acc 0.992, val_loss 0.02360, val_acc 0.992\n",
      "GPU /device:GPU:1 - epoch 45, loss 0.02229, acc 0.993, val_loss 0.02152, val_acc 0.993\n",
      "GPU /device:GPU:1 - epoch 50, loss 0.01977, acc 0.994, val_loss 0.02320, val_acc 0.993\n",
      "GPU /device:GPU:0 - epoch 40, loss 0.02364, acc 0.992, val_loss 0.02252, val_acc 0.993\n",
      "GPU /device:GPU:1 - epoch 55, loss 0.01826, acc 0.994, val_loss 0.02282, val_acc 0.992\n",
      "GPU /device:GPU:0 - epoch 45, loss 0.02150, acc 0.993, val_loss 0.02189, val_acc 0.993\n",
      "GPU /device:GPU:1 - epoch 60, loss 0.01547, acc 0.994, val_loss 0.02457, val_acc 0.992\n",
      "GPU /device:GPU:0 - epoch 50, loss 0.01992, acc 0.994, val_loss 0.02100, val_acc 0.993\n",
      "GPU /device:GPU:1 - epoch 65, loss 0.01430, acc 0.995, val_loss 0.02324, val_acc 0.993\n",
      "GPU /device:GPU:0 - epoch 55, loss 0.01836, acc 0.994, val_loss 0.02115, val_acc 0.994\n",
      "GPU /device:GPU:1 - epoch 70, loss 0.01491, acc 0.995, val_loss 0.02295, val_acc 0.993\n",
      "GPU /device:GPU:1 - epoch 75, loss 0.01352, acc 0.995, val_loss 0.02447, val_acc 0.993\n",
      "GPU /device:GPU:0 - epoch 60, loss 0.01572, acc 0.995, val_loss 0.02217, val_acc 0.993\n",
      "GPU /device:GPU:1 - epoch 80, loss 0.01203, acc 0.996, val_loss 0.02126, val_acc 0.993\n",
      "GPU /device:GPU:0 - epoch 65, loss 0.01490, acc 0.995, val_loss 0.02375, val_acc 0.993\n",
      "GPU /device:GPU:1 - epoch 85, loss 0.01181, acc 0.996, val_loss 0.02384, val_acc 0.993\n",
      "GPU /device:GPU:0 - epoch 70, loss 0.01317, acc 0.996, val_loss 0.02147, val_acc 0.994\n",
      "GPU /device:GPU:1 - epoch 90, loss 0.01136, acc 0.996, val_loss 0.02323, val_acc 0.993\n",
      "GPU /device:GPU:0 - epoch 75, loss 0.01233, acc 0.996, val_loss 0.02450, val_acc 0.993\n",
      "GPU /device:GPU:1 - epoch 95, loss 0.01130, acc 0.996, val_loss 0.02543, val_acc 0.993\n",
      "GPU /device:GPU:0 - epoch 80, loss 0.01246, acc 0.996, val_loss 0.02431, val_acc 0.994\n",
      "GPU /device:GPU:0 - epoch 85, loss 0.01154, acc 0.996, val_loss 0.02355, val_acc 0.994\n",
      "GPU /device:GPU:0 - epoch 90, loss 0.01068, acc 0.997, val_loss 0.02415, val_acc 0.993\n"
     ]
    }
   ],
   "source": [
    "thread_jobs = []\n",
    "for jid, job_arg in enumerate(jobs_argument):\n",
    "    job = Thread(target=training, args=job_arg)\n",
    "    thread_jobs.append(job)\n",
    "    job.start()\n",
    "\n",
    "for j in thread_jobs:\n",
    "    j.join()\n",
    "print('Complete')"
   ]
  }
 ],
 "metadata": {
  "kernelspec": {
   "display_name": "Python 3",
   "language": "python",
   "name": "python3"
  },
  "language_info": {
   "codemirror_mode": {
    "name": "ipython",
    "version": 3
   },
   "file_extension": ".py",
   "mimetype": "text/x-python",
   "name": "python",
   "nbconvert_exporter": "python",
   "pygments_lexer": "ipython3",
   "version": "3.5.2"
  }
 },
 "nbformat": 4,
 "nbformat_minor": 2
}
